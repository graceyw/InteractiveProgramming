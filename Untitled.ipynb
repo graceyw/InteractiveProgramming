{
 "cells": [
  {
   "cell_type": "code",
   "execution_count": 1,
   "metadata": {
    "collapsed": false
   },
   "outputs": [
    {
     "data": {
      "text/html": [
       "<script>requirejs.config({paths: { 'plotly': ['https://cdn.plot.ly/plotly-latest.min']},});if(!window.Plotly) {{require(['plotly'],function(plotly) {window.Plotly=plotly;});}}</script>"
      ],
      "text/plain": [
       "<IPython.core.display.HTML object>"
      ]
     },
     "metadata": {},
     "output_type": "display_data"
    }
   ],
   "source": [
    "import pandas as pd\n",
    "import colorlover as cl\n",
    "\n",
    "import plotly.plotly as plt\n",
    "from plotly.offline import download_plotlyjs, init_notebook_mode, plot, iplot\n",
    "init_notebook_mode(connected=True)"
   ]
  },
  {
   "cell_type": "code",
   "execution_count": 6,
   "metadata": {
    "collapsed": false,
    "scrolled": false
   },
   "outputs": [],
   "source": [
    "data = pd.read_csv('./GENDER_EQUALITY_01-17-2017 15-09-24-32_timeSeries.csv')\n",
    "country_code_data = pd.read_csv('./country_codes.csv')\n",
    "data = country_code_data.merge(data, left_on='English short name lower case', right_on=\"Country Name\")"
   ]
  },
  {
   "cell_type": "code",
   "execution_count": 22,
   "metadata": {
    "collapsed": false,
    "scrolled": false
   },
   "outputs": [
    {
     "data": {
      "text/plain": [
       "1990    0.911247\n",
       "1991    0.915040\n",
       "1992    0.925783\n",
       "1993    0.930572\n",
       "1994    0.927080\n",
       "1995    0.923952\n",
       "1996    0.926665\n",
       "1997    0.928497\n",
       "1998    0.930216\n",
       "1999    0.932867\n",
       "2000    0.935301\n",
       "2001    0.940669\n",
       "2002    0.943444\n",
       "2003    0.945734\n",
       "2004    0.948426\n",
       "2005    0.950332\n",
       "2006    0.952000\n",
       "2007    0.952343\n",
       "2008    0.953231\n",
       "2009    0.954120\n",
       "2010    0.954019\n",
       "2011    0.950583\n",
       "2012    0.950478\n",
       "2013    0.950516\n",
       "Name: 0, dtype: float64"
      ]
     },
     "execution_count": 22,
     "metadata": {},
     "output_type": "execute_result"
    }
   ],
   "source": [
    "data.loc[:, '1990':'2013'].loc[0]"
   ]
  },
  {
   "cell_type": "code",
   "execution_count": 17,
   "metadata": {
    "collapsed": false
   },
   "outputs": [
    {
     "data": {
      "text/plain": [
       "0                   Albania\n",
       "1                   Albania\n",
       "2                   Algeria\n",
       "3                   Algeria\n",
       "4                 Argentina\n",
       "5                 Argentina\n",
       "6                 Australia\n",
       "7                 Australia\n",
       "8                   Austria\n",
       "9                   Austria\n",
       "10               Bangladesh\n",
       "11               Bangladesh\n",
       "12                 Barbados\n",
       "13                 Barbados\n",
       "14                  Belarus\n",
       "15                  Belgium\n",
       "16                  Belgium\n",
       "17                   Belize\n",
       "18                   Belize\n",
       "19                    Benin\n",
       "20                    Benin\n",
       "21                   Bhutan\n",
       "22                 Botswana\n",
       "23                 Botswana\n",
       "24                   Brazil\n",
       "25        Brunei Darussalam\n",
       "26                 Bulgaria\n",
       "27                 Bulgaria\n",
       "28             Burkina Faso\n",
       "29                  Burundi\n",
       "               ...         \n",
       "223              Tajikistan\n",
       "224              Tajikistan\n",
       "225                Thailand\n",
       "226                Thailand\n",
       "227                    Togo\n",
       "228                    Togo\n",
       "229                   Tonga\n",
       "230                   Tonga\n",
       "231     Trinidad and Tobago\n",
       "232     Trinidad and Tobago\n",
       "233                 Tunisia\n",
       "234                 Tunisia\n",
       "235                  Turkey\n",
       "236                  Turkey\n",
       "237                  Uganda\n",
       "238                  Uganda\n",
       "239                 Ukraine\n",
       "240                 Ukraine\n",
       "241    United Arab Emirates\n",
       "242    United Arab Emirates\n",
       "243          United Kingdom\n",
       "244          United Kingdom\n",
       "245           United States\n",
       "246           United States\n",
       "247                 Uruguay\n",
       "248                 Uruguay\n",
       "249                  Zambia\n",
       "250                  Zambia\n",
       "251                Zimbabwe\n",
       "252                Zimbabwe\n",
       "Name: Country Name, dtype: object"
      ]
     },
     "execution_count": 17,
     "metadata": {},
     "output_type": "execute_result"
    }
   ],
   "source": [
    "data['Country Name']"
   ]
  },
  {
   "cell_type": "code",
   "execution_count": null,
   "metadata": {
    "collapsed": true
   },
   "outputs": [],
   "source": []
  }
 ],
 "metadata": {
  "kernelspec": {
   "display_name": "Python 3",
   "language": "python",
   "name": "python3"
  },
  "language_info": {
   "codemirror_mode": {
    "name": "ipython",
    "version": 3
   },
   "file_extension": ".py",
   "mimetype": "text/x-python",
   "name": "python",
   "nbconvert_exporter": "python",
   "pygments_lexer": "ipython3",
   "version": "3.5.2"
  }
 },
 "nbformat": 4,
 "nbformat_minor": 2
}
